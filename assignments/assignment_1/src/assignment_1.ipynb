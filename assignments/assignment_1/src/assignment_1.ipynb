{
 "cells": [
  {
   "cell_type": "markdown",
   "metadata": {},
   "source": [
    "# Assignment 1 - Visual Analysis"
   ]
  },
  {
   "cell_type": "markdown",
   "metadata": {},
   "source": [
    "# Building a simple image search algorithm\n",
    "\n",
    "For this assignment, you'll be using ```OpenCV``` to design a simple image search algorithm.\n",
    "\n",
    "The dataset is a collection of over 1000 images of flowers, sampled from 17 different species. The dataset comes from the Visual Geometry Group at the University of Oxford, and full details of the data can be found [here](https://www.robots.ox.ac.uk/~vgg/data/flowers/17/).\n",
    "\n",
    "For this exercise, you should write some code which does the following:\n",
    "\n",
    "- Define a particular image that you want to work with\n",
    "- For that image \n",
    "  - Extract the colour histogram using ```OpenCV```\n",
    "- Extract colour histograms for all of the **other* images in the data\n",
    "- Compare the histogram of our chosen image to all of the other histograms \n",
    "  - For this, use the ```cv2.compareHist()``` function with the ```cv2.HISTCMP_CHISQR``` metric\n",
    "- Find the five images which are most simlar to the target image\n",
    "  - Save a CSV file to the folder called ```out```, showing the five most similar images and the distance metric:\n",
    "\n",
    "|Filename|Distance]\n",
    "|---|---|\n",
    "|target|0.0|\n",
    "|filename1|---|\n",
    "|filename2|---|\n",
    "\n",
    "## Objective\n",
    "\n",
    "This assignment is designed to test that you can:\n",
    "\n",
    "1. Work with larger datasets of images\n",
    "2. Extract structured information from image data using ```OpenCV```\n",
    "3. Quantaitively compare images based on these features, performing *distant viewing*\n",
    "\n",
    "## Some notes\n",
    "- You'll need to first ```unzip``` the flowers before you can use the data!\n",
    "\n",
    "## Additional comments\n",
    "\n",
    "Your code should include functions that you have written wherever possible. Try to break your code down into smaller self-contained parts, rather than having it as one long set of instructions.\n",
    "\n",
    "For this assignment, you are welcome to submit your code either as a Jupyter Notebook, or as ```.py``` script. If you do not know how to write ```.py``` scripts, don't worry - we're working towards that!\n",
    "\n",
    "Lastly, you are welcome to edit this README file to contain whatever information you like. Remember - documentation is important!\n"
   ]
  },
  {
   "cell_type": "code",
   "execution_count": null,
   "metadata": {},
   "outputs": [],
   "source": []
  }
 ],
 "metadata": {
  "language_info": {
   "name": "python"
  }
 },
 "nbformat": 4,
 "nbformat_minor": 2
}
