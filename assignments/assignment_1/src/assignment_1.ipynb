{
 "cells": [
  {
   "cell_type": "markdown",
   "metadata": {},
   "source": [
    "# Assignment 1 - Building a simple image search algorithm"
   ]
  },
  {
   "cell_type": "code",
   "execution_count": 2,
   "metadata": {},
   "outputs": [],
   "source": [
    "# Importing packages\n",
    "import os\n",
    "import cv2\n",
    "import numpy as np\n",
    "\n",
    "# Utility functions\n",
    "import sys\n",
    "sys.path.append(os.path.join(\"..\"))\n",
    "\n",
    "# Plotting tool\n",
    "import matplotlib.pyplot as plt"
   ]
  },
  {
   "cell_type": "code",
   "execution_count": 15,
   "metadata": {},
   "outputs": [],
   "source": [
    "# Defining function for making \n",
    "def extract_color_hist(image_path):\n",
    "    \"\"\"\n",
    "    Extracts color histograms for a single image.\n",
    "\n",
    "    Args:\n",
    "        image_path (str): Path to the image file.\n",
    "\n",
    "    Returns:\n",
    "        numpy.ndarray: A numpy array containing histograms for each channel (red, green, blue).\n",
    "    \"\"\"\n",
    "    \n",
    "    image = cv2.imread(image_path)\n",
    "\n",
    "    # Split channels\n",
    "    channels = cv2.split(image)\n",
    "\n",
    "    histograms = []\n",
    "\n",
    "    for channel in channels:\n",
    "        # Calculate histogram\n",
    "        hist = cv2.calcHist([channel], [0], None, [256], [0, 256]).flatten()\n",
    "\n",
    "        # Normalize histogram\n",
    "        hist = cv2.normalize(hist, hist, alpha=0, beta=1, norm_type=cv2.NORM_MINMAX)\n",
    "\n",
    "        histograms.append(hist)\n",
    "\n",
    "    # Concatenate histograms for all channels\n",
    "    histograms = np.concatenate(histograms)\n",
    "\n",
    "    return histograms"
   ]
  },
  {
   "cell_type": "code",
   "execution_count": 25,
   "metadata": {},
   "outputs": [],
   "source": [
    "# Making function for comparing histograms\n",
    "def compare_histograms(target_histogram, histograms_list):\n",
    "    \"\"\"\n",
    "    Compares the histogram of a target image to other histograms using Chi-Squared distance.\n",
    "\n",
    "    Args:\n",
    "        target_histogram (numpy.ndarray): Histogram of the target image.\n",
    "        histograms_list (list): List containing tuples of (filename, histograms) for all images.\n",
    "\n",
    "    Returns:\n",
    "        list: A list of tuples where each tuple contains the filename and the Chi-Squared distance\n",
    "              between the target image histogram and the histogram of each image in the dataset.\n",
    "    \"\"\"\n",
    "\n",
    "    distances = []\n",
    "\n",
    "    for filename, histogram in histograms_list:\n",
    "        # Compute Chi-Squared distance\n",
    "        distance = cv2.compareHist(target_histogram, histogram, cv2.HISTCMP_CHISQR)\n",
    "        distances.append((filename, distance))\n",
    "\n",
    "    return distances\n"
   ]
  },
  {
   "cell_type": "code",
   "execution_count": 19,
   "metadata": {},
   "outputs": [],
   "source": [
    "# Defining folder path\n",
    "folder_path = os.path.join(\"..\",\"in\", \"flowers\")\n",
    "\n",
    "# Initialize an empty list to store (filename, histograms) tuples\n",
    "histograms_list = []\n",
    "\n",
    "# Iterate over each image in the folder\n",
    "for image_filename in os.listdir(folder_path):\n",
    "    image_path = os.path.join(folder_path, image_filename)\n",
    "\n",
    "    # Call the function to extract color histograms for the current image\n",
    "    histograms = extract_color_hist(image_path)\n",
    "\n",
    "    # Append the filename and histograms tuple to the list\n",
    "    histograms_list.append((image_filename, histograms))"
   ]
  },
  {
   "cell_type": "code",
   "execution_count": 32,
   "metadata": {},
   "outputs": [],
   "source": [
    "# Defining image path\n",
    "image_path = os.path.join(\"..\",\"in\", \"flowers\",\"image_0009.jpg\")\n",
    "\n",
    "# Using function for extracting image histogram for chosen image\n",
    "hist_chosen = extract_color_hist(image_path)"
   ]
  },
  {
   "cell_type": "code",
   "execution_count": 36,
   "metadata": {},
   "outputs": [],
   "source": [
    "# Comparing histograms\n",
    "distances = compare_histograms(hist_chosen,histograms_list)"
   ]
  },
  {
   "cell_type": "code",
   "execution_count": 38,
   "metadata": {},
   "outputs": [
    {
     "name": "stdout",
     "output_type": "stream",
     "text": [
      "Distance from image_0009.jpg: 0.0\n",
      "Distance from image_0408.jpg: 113.69013464591076\n",
      "Distance from image_0890.jpg: 169.60291780962874\n",
      "Distance from image_1247.jpg: 179.33006948297367\n",
      "Distance from image_0114.jpg: 182.7166582250731\n",
      "Distance from image_1323.jpg: 191.6750983593898\n"
     ]
    }
   ],
   "source": [
    "# Sort the distances list based on the distances (second element of each tuple)\n",
    "sorted_distances = sorted(distances, key=lambda x: x[1])\n",
    "\n",
    "# Get the top 5 closest histograms\n",
    "top_5_closest = sorted_distances[:6]\n",
    "\n",
    "# Print the top 5 closest histograms\n",
    "for filename, distance in top_5_closest:\n",
    "    print(f\"Distance from {filename}: {distance}\")\n"
   ]
  },
  {
   "cell_type": "code",
   "execution_count": 1,
   "metadata": {},
   "outputs": [
    {
     "ename": "NameError",
     "evalue": "name 'os' is not defined",
     "output_type": "error",
     "traceback": [
      "\u001b[0;31m---------------------------------------------------------------------------\u001b[0m",
      "\u001b[0;31mNameError\u001b[0m                                 Traceback (most recent call last)",
      "\u001b[1;32m/work/VA/cds_vis/assignments/assignment_1/src/assignment_1.ipynb Cell 9\u001b[0m line \u001b[0;36m4\n\u001b[1;32m      <a href='vscode-notebook-cell://app-5021880-0.cloud.sdu.dk/work/VA/cds_vis/assignments/assignment_1/src/assignment_1.ipynb#X11sdnNjb2RlLXJlbW90ZQ%3D%3D?line=0'>1</a>\u001b[0m \u001b[39mimport\u001b[39;00m \u001b[39mcsv\u001b[39;00m\n\u001b[1;32m      <a href='vscode-notebook-cell://app-5021880-0.cloud.sdu.dk/work/VA/cds_vis/assignments/assignment_1/src/assignment_1.ipynb#X11sdnNjb2RlLXJlbW90ZQ%3D%3D?line=2'>3</a>\u001b[0m \u001b[39m# Define the output CSV file path\u001b[39;00m\n\u001b[0;32m----> <a href='vscode-notebook-cell://app-5021880-0.cloud.sdu.dk/work/VA/cds_vis/assignments/assignment_1/src/assignment_1.ipynb#X11sdnNjb2RlLXJlbW90ZQ%3D%3D?line=3'>4</a>\u001b[0m output_path \u001b[39m=\u001b[39m os\u001b[39m.\u001b[39mpath\u001b[39m.\u001b[39mjoin(\u001b[39m\"\u001b[39m\u001b[39mout\u001b[39m\u001b[39m\"\u001b[39m, \u001b[39m\"\u001b[39m\u001b[39msimilar_images.csv\u001b[39m\u001b[39m\"\u001b[39m)\n\u001b[1;32m      <a href='vscode-notebook-cell://app-5021880-0.cloud.sdu.dk/work/VA/cds_vis/assignments/assignment_1/src/assignment_1.ipynb#X11sdnNjb2RlLXJlbW90ZQ%3D%3D?line=5'>6</a>\u001b[0m \u001b[39m# Write the top 5 closest histograms to the CSV file\u001b[39;00m\n\u001b[1;32m      <a href='vscode-notebook-cell://app-5021880-0.cloud.sdu.dk/work/VA/cds_vis/assignments/assignment_1/src/assignment_1.ipynb#X11sdnNjb2RlLXJlbW90ZQ%3D%3D?line=6'>7</a>\u001b[0m \u001b[39mwith\u001b[39;00m \u001b[39mopen\u001b[39m(output_csv_path, mode\u001b[39m=\u001b[39m\u001b[39m'\u001b[39m\u001b[39mw\u001b[39m\u001b[39m'\u001b[39m, newline\u001b[39m=\u001b[39m\u001b[39m'\u001b[39m\u001b[39m'\u001b[39m) \u001b[39mas\u001b[39;00m file:\n",
      "\u001b[0;31mNameError\u001b[0m: name 'os' is not defined"
     ]
    }
   ],
   "source": [
    "import csv\n",
    "\n",
    "# Define the output CSV file path\n",
    "output_path = os.path.join(\"out\", \"similar_images.csv\")\n",
    "\n",
    "# Write the top 5 closest histograms to the CSV file\n",
    "with open(output_csv_path, mode='w', newline='') as file:\n",
    "    writer = csv.writer(file)\n",
    "    \n",
    "    # Write the header\n",
    "    writer.writerow([\"Filename\", \"Distance\"])\n",
    "\n",
    "    # Write the top 5 closest histograms\n",
    "    for filename, distance in top_5_closest:\n",
    "        writer.writerow([filename, distance])\n",
    "\n",
    "print(f\"CSV file saved to: {output_csv_path}\")\n"
   ]
  }
 ],
 "metadata": {
  "kernelspec": {
   "display_name": "Python 3",
   "language": "python",
   "name": "python3"
  },
  "language_info": {
   "codemirror_mode": {
    "name": "ipython",
    "version": 3
   },
   "file_extension": ".py",
   "mimetype": "text/x-python",
   "name": "python",
   "nbconvert_exporter": "python",
   "pygments_lexer": "ipython3",
   "version": "3.10.12"
  }
 },
 "nbformat": 4,
 "nbformat_minor": 2
}
